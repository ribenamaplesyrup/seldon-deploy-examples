{
 "cells": [
  {
   "cell_type": "markdown",
   "id": "8990cd31",
   "metadata": {},
   "source": [
    "## Tensorflow SSD Testing"
   ]
  },
  {
   "cell_type": "code",
   "execution_count": null,
   "id": "beaeabab",
   "metadata": {},
   "outputs": [],
   "source": [
    "import time\n",
    "from six import BytesIO\n",
    "from PIL import Image\n",
    "import tensorflow as tf\n",
    "import numpy as np"
   ]
  },
  {
   "cell_type": "markdown",
   "id": "3874d57c",
   "metadata": {},
   "source": [
    "### Download and load model"
   ]
  },
  {
   "cell_type": "code",
   "execution_count": null,
   "id": "c6033927",
   "metadata": {},
   "outputs": [],
   "source": [
    "!gsutil cp -r gs://tom-seldon-examples/tfhub/ssd ."
   ]
  },
  {
   "cell_type": "code",
   "execution_count": null,
   "id": "02f4cde6",
   "metadata": {},
   "outputs": [],
   "source": [
    "start_time = time.time()\n",
    "tf.keras.backend.clear_session()\n",
    "detect_fn = tf.saved_model.load('ssd/1')\n",
    "end_time = time.time()\n",
    "elapsed_time = end_time - start_time\n",
    "print('Elapsed time: ' + str(elapsed_time) + 's')"
   ]
  },
  {
   "cell_type": "markdown",
   "id": "e8bf59a9",
   "metadata": {},
   "source": [
    "### Download and load image"
   ]
  },
  {
   "cell_type": "code",
   "execution_count": null,
   "id": "a30fb90c",
   "metadata": {},
   "outputs": [],
   "source": [
    "!gsutil cp -r gs://tom-seldon-examples/tfhub/test-images/street-image.png ."
   ]
  },
  {
   "cell_type": "code",
   "execution_count": null,
   "id": "ab20d741",
   "metadata": {},
   "outputs": [],
   "source": [
    "def load_image_into_numpy_array(path):\n",
    "    img_data = tf.io.gfile.GFile(path, 'rb').read()\n",
    "    image = Image.open(BytesIO(img_data)).convert('RGB')\n",
    "    (im_width, im_height) = image.size\n",
    "    return np.array(image.getdata()).reshape(\n",
    "      (im_height, im_width, 3)).astype(np.uint8)"
   ]
  },
  {
   "cell_type": "code",
   "execution_count": null,
   "id": "2e52ccab",
   "metadata": {},
   "outputs": [],
   "source": [
    "image_path = 'street-image.png'\n",
    "image_np = load_image_into_numpy_array(image_path)\n",
    "image_np = np.expand_dims(image_np, 0)"
   ]
  },
  {
   "cell_type": "markdown",
   "id": "21b1147b",
   "metadata": {},
   "source": [
    "### Test model"
   ]
  },
  {
   "cell_type": "code",
   "execution_count": null,
   "id": "5f9690e2",
   "metadata": {},
   "outputs": [],
   "source": [
    "detections = detect_fn(image_np)\n",
    "detections"
   ]
  },
  {
   "cell_type": "markdown",
   "id": "271e59e0",
   "metadata": {},
   "source": [
    "### Build JSON request with Tensorflow protocol"
   ]
  },
  {
   "cell_type": "code",
   "execution_count": null,
   "id": "38c2c9ff",
   "metadata": {},
   "outputs": [],
   "source": [
    "image_list = image_np.tolist()\n",
    "X = {\n",
    "    \"instances\": image_list\n",
    "}\n",
    "X"
   ]
  },
  {
   "cell_type": "code",
   "execution_count": null,
   "id": "ed284416",
   "metadata": {},
   "outputs": [],
   "source": [
    "import json\n",
    "\n",
    "with open('test.json', 'w') as fp:\n",
    "    json.dump(X, fp)"
   ]
  }
 ],
 "metadata": {
  "kernelspec": {
   "display_name": "Python 3",
   "language": "python",
   "name": "python3"
  },
  "language_info": {
   "codemirror_mode": {
    "name": "ipython",
    "version": 3
   },
   "file_extension": ".py",
   "mimetype": "text/x-python",
   "name": "python",
   "nbconvert_exporter": "python",
   "pygments_lexer": "ipython3",
   "version": "3.6.13"
  }
 },
 "nbformat": 4,
 "nbformat_minor": 5
}
